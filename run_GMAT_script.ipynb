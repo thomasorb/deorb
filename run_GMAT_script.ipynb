{
 "cells": [
  {
   "cell_type": "code",
   "execution_count": 2,
   "id": "57abdc9a-babf-4e53-9e40-ac5a3fc2406f",
   "metadata": {},
   "outputs": [],
   "source": [
    "import numpy as np\n",
    "import pylab as pl\n",
    "import os.path\n",
    "import pandas as pd\n",
    "import deorblib"
   ]
  },
  {
   "cell_type": "code",
   "execution_count": 13,
   "id": "874f55a1-c222-46de-b002-231812672f45",
   "metadata": {},
   "outputs": [
    {
     "name": "stdout",
     "output_type": "stream",
     "text": [
      "at altitude = 350.0 km: VX = 7.702746991752088 km/s at X = 6728.1 km\n"
     ]
    }
   ],
   "source": [
    "import load_gmat\n",
    "import gmatpy as gmat\n",
    "\n",
    "# load script\n",
    "gmat.LoadScript('gmat/scripts/test0.script')\n",
    "\n",
    "# change some fields\n",
    "alt = 350e3 \n",
    "\n",
    "X = (alt + deorblib.R_earth) / 1000\n",
    "# a correction of 10 km must be added to get the right velocity...\n",
    "VY = deorblib.kepler_velocity(alt-10e3) / 1000\n",
    "print('at altitude = {} km: VX = {} km/s at X = {} km'.format(alt/1000, VY, X))\n",
    "\n",
    "sc = gmat.GetObject('DefaultSC')\n",
    "sc.SetField('X', X)\n",
    "sc.SetField('VY', VY)\n",
    "\n",
    "# change path of report file\n",
    "gmat.GetObject('ReportFile1').SetField('Filename', os.path.abspath('report1.txt'))"
   ]
  },
  {
   "cell_type": "code",
   "execution_count": 14,
   "id": "3348332b-3240-4efa-9308-ddeb0eef4991",
   "metadata": {},
   "outputs": [
    {
     "data": {
      "text/plain": [
       "True"
      ]
     },
     "execution_count": 14,
     "metadata": {},
     "output_type": "execute_result"
    }
   ],
   "source": [
    "# run script\n",
    "gmat.RunScript()"
   ]
  },
  {
   "cell_type": "code",
   "execution_count": 15,
   "id": "288feeb4-d215-4e24-ac8f-69f064ec8f0d",
   "metadata": {},
   "outputs": [],
   "source": [
    "# load report\n",
    "results = pd.read_csv('report1.txt', sep=' +', header=0, engine='python')"
   ]
  },
  {
   "cell_type": "code",
   "execution_count": 16,
   "id": "5c12cfa2-7dff-4e0a-9427-747f21e9b487",
   "metadata": {},
   "outputs": [
    {
     "data": {
      "text/html": [
       "<div>\n",
       "<style scoped>\n",
       "    .dataframe tbody tr th:only-of-type {\n",
       "        vertical-align: middle;\n",
       "    }\n",
       "\n",
       "    .dataframe tbody tr th {\n",
       "        vertical-align: top;\n",
       "    }\n",
       "\n",
       "    .dataframe thead th {\n",
       "        text-align: right;\n",
       "    }\n",
       "</style>\n",
       "<table border=\"1\" class=\"dataframe\">\n",
       "  <thead>\n",
       "    <tr style=\"text-align: right;\">\n",
       "      <th></th>\n",
       "      <th>DefaultSC.A1ModJulian</th>\n",
       "      <th>DefaultSC.Earth.Altitude</th>\n",
       "      <th>DefaultSC.EarthMJ2000Eq.X</th>\n",
       "      <th>DefaultSC.EarthMJ2000Eq.Y</th>\n",
       "      <th>DefaultSC.EarthMJ2000Eq.Z</th>\n",
       "      <th>DefaultSC.ElapsedDays</th>\n",
       "      <th>DefaultSC.ElapsedSecs</th>\n",
       "    </tr>\n",
       "  </thead>\n",
       "  <tbody>\n",
       "    <tr>\n",
       "      <th>0</th>\n",
       "      <td>21545.000000</td>\n",
       "      <td>349.963700</td>\n",
       "      <td>6728.100000</td>\n",
       "      <td>0.000000</td>\n",
       "      <td>0.000000</td>\n",
       "      <td>0.000000</td>\n",
       "      <td>0.000000e+00</td>\n",
       "    </tr>\n",
       "    <tr>\n",
       "      <th>1</th>\n",
       "      <td>21545.000695</td>\n",
       "      <td>349.964616</td>\n",
       "      <td>6712.233700</td>\n",
       "      <td>461.801583</td>\n",
       "      <td>-0.000095</td>\n",
       "      <td>0.000694</td>\n",
       "      <td>6.000000e+01</td>\n",
       "    </tr>\n",
       "    <tr>\n",
       "      <th>2</th>\n",
       "      <td>21545.001616</td>\n",
       "      <td>349.968602</td>\n",
       "      <td>6642.421129</td>\n",
       "      <td>1070.344393</td>\n",
       "      <td>-0.000473</td>\n",
       "      <td>0.001615</td>\n",
       "      <td>1.395490e+02</td>\n",
       "    </tr>\n",
       "    <tr>\n",
       "      <th>3</th>\n",
       "      <td>21545.002645</td>\n",
       "      <td>349.976632</td>\n",
       "      <td>6499.177248</td>\n",
       "      <td>1740.172040</td>\n",
       "      <td>-0.001143</td>\n",
       "      <td>0.002645</td>\n",
       "      <td>2.285131e+02</td>\n",
       "    </tr>\n",
       "    <tr>\n",
       "      <th>4</th>\n",
       "      <td>21545.003686</td>\n",
       "      <td>349.988310</td>\n",
       "      <td>6285.872443</td>\n",
       "      <td>2399.055729</td>\n",
       "      <td>-0.001965</td>\n",
       "      <td>0.003686</td>\n",
       "      <td>3.184623e+02</td>\n",
       "    </tr>\n",
       "    <tr>\n",
       "      <th>...</th>\n",
       "      <td>...</td>\n",
       "      <td>...</td>\n",
       "      <td>...</td>\n",
       "      <td>...</td>\n",
       "      <td>...</td>\n",
       "      <td>...</td>\n",
       "      <td>...</td>\n",
       "    </tr>\n",
       "    <tr>\n",
       "      <th>109869</th>\n",
       "      <td>21657.423614</td>\n",
       "      <td>170.284736</td>\n",
       "      <td>-5646.714484</td>\n",
       "      <td>3316.087083</td>\n",
       "      <td>-0.240741</td>\n",
       "      <td>112.423614</td>\n",
       "      <td>9.713400e+06</td>\n",
       "    </tr>\n",
       "    <tr>\n",
       "      <th>109870</th>\n",
       "      <td>21657.424148</td>\n",
       "      <td>170.217917</td>\n",
       "      <td>-5820.478952</td>\n",
       "      <td>3000.494570</td>\n",
       "      <td>-0.230666</td>\n",
       "      <td>112.424148</td>\n",
       "      <td>9.713446e+06</td>\n",
       "    </tr>\n",
       "    <tr>\n",
       "      <th>109871</th>\n",
       "      <td>21657.424697</td>\n",
       "      <td>170.149519</td>\n",
       "      <td>-5980.520165</td>\n",
       "      <td>2667.100612</td>\n",
       "      <td>-0.219529</td>\n",
       "      <td>112.424696</td>\n",
       "      <td>9.713494e+06</td>\n",
       "    </tr>\n",
       "    <tr>\n",
       "      <th>109872</th>\n",
       "      <td>21657.425327</td>\n",
       "      <td>170.071363</td>\n",
       "      <td>-6140.870815</td>\n",
       "      <td>2273.483932</td>\n",
       "      <td>-0.205742</td>\n",
       "      <td>112.425326</td>\n",
       "      <td>9.713548e+06</td>\n",
       "    </tr>\n",
       "    <tr>\n",
       "      <th>109873</th>\n",
       "      <td>21657.425907</td>\n",
       "      <td>170.000000</td>\n",
       "      <td>-6265.703855</td>\n",
       "      <td>1902.378554</td>\n",
       "      <td>-0.192126</td>\n",
       "      <td>112.425907</td>\n",
       "      <td>9.713598e+06</td>\n",
       "    </tr>\n",
       "  </tbody>\n",
       "</table>\n",
       "<p>109874 rows × 7 columns</p>\n",
       "</div>"
      ],
      "text/plain": [
       "        DefaultSC.A1ModJulian  DefaultSC.Earth.Altitude  \\\n",
       "0                21545.000000                349.963700   \n",
       "1                21545.000695                349.964616   \n",
       "2                21545.001616                349.968602   \n",
       "3                21545.002645                349.976632   \n",
       "4                21545.003686                349.988310   \n",
       "...                       ...                       ...   \n",
       "109869           21657.423614                170.284736   \n",
       "109870           21657.424148                170.217917   \n",
       "109871           21657.424697                170.149519   \n",
       "109872           21657.425327                170.071363   \n",
       "109873           21657.425907                170.000000   \n",
       "\n",
       "        DefaultSC.EarthMJ2000Eq.X  DefaultSC.EarthMJ2000Eq.Y  \\\n",
       "0                     6728.100000                   0.000000   \n",
       "1                     6712.233700                 461.801583   \n",
       "2                     6642.421129                1070.344393   \n",
       "3                     6499.177248                1740.172040   \n",
       "4                     6285.872443                2399.055729   \n",
       "...                           ...                        ...   \n",
       "109869               -5646.714484                3316.087083   \n",
       "109870               -5820.478952                3000.494570   \n",
       "109871               -5980.520165                2667.100612   \n",
       "109872               -6140.870815                2273.483932   \n",
       "109873               -6265.703855                1902.378554   \n",
       "\n",
       "        DefaultSC.EarthMJ2000Eq.Z  DefaultSC.ElapsedDays  \\\n",
       "0                        0.000000               0.000000   \n",
       "1                       -0.000095               0.000694   \n",
       "2                       -0.000473               0.001615   \n",
       "3                       -0.001143               0.002645   \n",
       "4                       -0.001965               0.003686   \n",
       "...                           ...                    ...   \n",
       "109869                  -0.240741             112.423614   \n",
       "109870                  -0.230666             112.424148   \n",
       "109871                  -0.219529             112.424696   \n",
       "109872                  -0.205742             112.425326   \n",
       "109873                  -0.192126             112.425907   \n",
       "\n",
       "        DefaultSC.ElapsedSecs  \n",
       "0                0.000000e+00  \n",
       "1                6.000000e+01  \n",
       "2                1.395490e+02  \n",
       "3                2.285131e+02  \n",
       "4                3.184623e+02  \n",
       "...                       ...  \n",
       "109869           9.713400e+06  \n",
       "109870           9.713446e+06  \n",
       "109871           9.713494e+06  \n",
       "109872           9.713548e+06  \n",
       "109873           9.713598e+06  \n",
       "\n",
       "[109874 rows x 7 columns]"
      ]
     },
     "execution_count": 16,
     "metadata": {},
     "output_type": "execute_result"
    }
   ],
   "source": [
    "results"
   ]
  },
  {
   "cell_type": "code",
   "execution_count": 17,
   "id": "85ac7db7-7556-460e-bc97-70ff3de9ec0f",
   "metadata": {},
   "outputs": [
    {
     "data": {
      "text/plain": [
       "<matplotlib.lines.Line2D at 0x70439b190190>"
      ]
     },
     "execution_count": 17,
     "metadata": {},
     "output_type": "execute_result"
    },
    {
     "data": {
      "image/png": "[encoded data removed]",
      "text/plain": [
       "<Figure size 640x480 with 1 Axes>"
      ]
     },
     "metadata": {},
     "output_type": "display_data"
    }
   ],
   "source": [
    "t = results[\"DefaultSC.ElapsedDays\"]\n",
    "pl.plot(t, results[\"DefaultSC.Earth.Altitude\"])\n",
    "pl.grid()\n",
    "pl.axhline(180)"
   ]
  },
  {
   "cell_type": "code",
   "execution_count": null,
   "id": "329eabef-c5ae-4fce-8486-93a589b42ea6",
   "metadata": {},
   "outputs": [],
   "source": []
  },
  {
   "cell_type": "code",
   "execution_count": null,
   "id": "d724e70c-c871-420b-9fba-0d740ca30ef9",
   "metadata": {},
   "outputs": [],
   "source": []
  }
 ],
 "metadata": {
  "kernelspec": {
   "display_name": "Python 3 (ipykernel)",
   "language": "python",
   "name": "python3"
  },
  "language_info": {
   "codemirror_mode": {
    "name": "ipython",
    "version": 3
   },
   "file_extension": ".py",
   "mimetype": "text/x-python",
   "name": "python",
   "nbconvert_exporter": "python",
   "pygments_lexer": "ipython3",
   "version": "3.9.19"
  }
 },
 "nbformat": 4,
 "nbformat_minor": 5
}
